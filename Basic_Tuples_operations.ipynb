{
  "nbformat": 4,
  "nbformat_minor": 0,
  "metadata": {
    "colab": {
      "provenance": [],
      "authorship_tag": "ABX9TyPCU2V/ek5F+Zu6KjPjJXiJ",
      "include_colab_link": true
    },
    "kernelspec": {
      "name": "python3",
      "display_name": "Python 3"
    },
    "language_info": {
      "name": "python"
    }
  },
  "cells": [
    {
      "cell_type": "markdown",
      "metadata": {
        "id": "view-in-github",
        "colab_type": "text"
      },
      "source": [
        "<a href=\"https://colab.research.google.com/github/Jakiaa/Python-Basic/blob/main/Basic_Tuples_operations.ipynb\" target=\"_parent\"><img src=\"https://colab.research.google.com/assets/colab-badge.svg\" alt=\"Open In Colab\"/></a>"
      ]
    },
    {
      "cell_type": "code",
      "execution_count": 5,
      "metadata": {
        "colab": {
          "base_uri": "https://localhost:8080/"
        },
        "id": "Qjc9RcazFfTo",
        "outputId": "59febcac-d2f2-4920-e358-86b55cd30290"
      },
      "outputs": [
        {
          "output_type": "stream",
          "name": "stdout",
          "text": [
            "forth\n",
            "first, second, third, forth\n",
            "first,\n",
            "second,\n",
            "third,\n",
            "forth\n",
            "True\n",
            "2\n",
            "('j', 'a', 'k', 'i', 'a')\n",
            "('j', 'a', 'k', 'i', 'a')\n",
            "('k', 'i', 'a')\n",
            "('j', 'a')\n",
            "('a', 'k')\n"
          ]
        }
      ],
      "source": [
        "# Tuples operations\n",
        "\n",
        "\n",
        "# Exercise 1\n",
        "# Create a tuple \"cardinal_numbers\" with \"first\", \"second\", \"third\"and \"forth\"\n",
        "cardinal_numbers = (\"first,\", \"second,\", \"third,\",\"forth\")\n",
        "\n",
        "\n",
        "# Exercise 2\n",
        "# Display the second object in the tuple\n",
        "print(cardinal_numbers[3])\n",
        "\n",
        "\n",
        "# Exercise 3\n",
        "# Unpack the tuple into three strings and display them\n",
        "position1, position2, position3,position4 = cardinal_numbers\n",
        "print(position1,position2,position3,position4)\n",
        "#or\n",
        "print(position1)\n",
        "print(position2)\n",
        "print(position3)\n",
        "print(position4)\n",
        "# Exercise 4\n",
        "# Create a tuple containing the letters of your name from a string\n",
        "my_name = tuple(\"jakia\")\n",
        "\n",
        "# Exercide 5\n",
        "# Check whether or not a is in my_name and count 'a' within the given string\n",
        "print(\"a\" in my_name)\n",
        "print(my_name.count('a'))\n",
        "\n",
        "# Exercise 6\n",
        "# Create tuple containing all but the first letter in my_name)\n",
        "print(my_name[:])\n",
        "print(my_name[0:])\n",
        "print(my_name[2:])\n",
        "print(my_name[:2])\n",
        "print(my_name[1:3])"
      ]
    }
  ]
}