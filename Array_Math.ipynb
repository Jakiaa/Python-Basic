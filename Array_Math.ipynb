{
  "nbformat": 4,
  "nbformat_minor": 0,
  "metadata": {
    "colab": {
      "provenance": [],
      "authorship_tag": "ABX9TyP4WEZIeP5Nyl0jzDb1Qb/X",
      "include_colab_link": true
    },
    "kernelspec": {
      "name": "python3",
      "display_name": "Python 3"
    },
    "language_info": {
      "name": "python"
    }
  },
  "cells": [
    {
      "cell_type": "markdown",
      "metadata": {
        "id": "view-in-github",
        "colab_type": "text"
      },
      "source": [
        "<a href=\"https://colab.research.google.com/github/Jakiaa/Python-Basic/blob/main/Array_Math.ipynb\" target=\"_parent\"><img src=\"https://colab.research.google.com/assets/colab-badge.svg\" alt=\"Open In Colab\"/></a>"
      ]
    },
    {
      "cell_type": "markdown",
      "source": [
        "Basic mathematical functions are available as operators and also as functions in NumPy. \n",
        "It operates element-wise on an array. "
      ],
      "metadata": {
        "id": "iXCBRs7Ty1ce"
      }
    },
    {
      "cell_type": "code",
      "source": [
        "#import numpy packages\n",
        "import numpy as np"
      ],
      "metadata": {
        "id": "XzOwBptGy-SC"
      },
      "execution_count": 1,
      "outputs": []
    },
    {
      "cell_type": "code",
      "source": [
        "# get input of two array\n",
        "x=np.array([[3,5,7],[11,9,1]])\n",
        "y=np.array([[2,4,6],[8,10,12]])\n",
        "\n",
        "#Elementwise sum; both produce the array sum\n",
        "print(x+y)\n",
        "#or\n",
        "print (np.add(x,y))"
      ],
      "metadata": {
        "colab": {
          "base_uri": "https://localhost:8080/"
        },
        "id": "VQHFUIgtzKOe",
        "outputId": "fd68197c-6fdc-4a37-f49b-fbd7d2e260cb"
      },
      "execution_count": 4,
      "outputs": [
        {
          "output_type": "stream",
          "name": "stdout",
          "text": [
            "[[ 5  9 13]\n",
            " [19 19 13]]\n",
            "[[ 5  9 13]\n",
            " [19 19 13]]\n"
          ]
        }
      ]
    },
    {
      "cell_type": "code",
      "source": [
        "# Elementwise difference; both produce the array\n",
        "print(x-y)\n",
        "     #or\n",
        "print (np.subtract(x,y))"
      ],
      "metadata": {
        "colab": {
          "base_uri": "https://localhost:8080/"
        },
        "id": "4aZDMWMn8BOx",
        "outputId": "b9648758-df60-48df-f5d9-ae8df5732bc0"
      },
      "execution_count": 6,
      "outputs": [
        {
          "output_type": "stream",
          "name": "stdout",
          "text": [
            "[[  1   1   1]\n",
            " [  3  -1 -11]]\n",
            "[[  1   1   1]\n",
            " [  3  -1 -11]]\n"
          ]
        }
      ]
    },
    {
      "cell_type": "code",
      "source": [
        "# Elementwise product; both produce the array\n",
        "print(x*y)\n",
        "     #or\n",
        "print (np.multiply(x,y))"
      ],
      "metadata": {
        "colab": {
          "base_uri": "https://localhost:8080/"
        },
        "id": "7chPSGSZ8ZmB",
        "outputId": "89047f63-665a-48ae-b66e-da1a4be843c6"
      },
      "execution_count": 7,
      "outputs": [
        {
          "output_type": "stream",
          "name": "stdout",
          "text": [
            "[[ 6 20 42]\n",
            " [88 90 12]]\n",
            "[[ 6 20 42]\n",
            " [88 90 12]]\n"
          ]
        }
      ]
    },
    {
      "cell_type": "code",
      "source": [
        "# Elementwise division; both produce the array\n",
        "print(x/y)\n",
        "     #or\n",
        "print (np.divide(x,y))"
      ],
      "metadata": {
        "colab": {
          "base_uri": "https://localhost:8080/"
        },
        "id": "22s-xkHR8pwR",
        "outputId": "49e282a1-c867-4149-9ac8-5723bb77fba2"
      },
      "execution_count": 10,
      "outputs": [
        {
          "output_type": "stream",
          "name": "stdout",
          "text": [
            "[[1.5        1.25       1.16666667]\n",
            " [1.375      0.9        0.08333333]]\n",
            "[[1.5        1.25       1.16666667]\n",
            " [1.375      0.9        0.08333333]]\n"
          ]
        }
      ]
    },
    {
      "cell_type": "code",
      "source": [
        "# Elementwise square root; produces the array\n",
        "print(np.sqrt(x))\n",
        " "
      ],
      "metadata": {
        "colab": {
          "base_uri": "https://localhost:8080/"
        },
        "id": "2WUMH31y87KM",
        "outputId": "e72aa982-2f88-4dc3-9266-cde00b3aee5e"
      },
      "execution_count": 11,
      "outputs": [
        {
          "output_type": "stream",
          "name": "stdout",
          "text": [
            "[[1.73205081 2.23606798 2.64575131]\n",
            " [3.31662479 3.         1.        ]]\n"
          ]
        }
      ]
    },
    {
      "cell_type": "markdown",
      "source": [
        "We can use the “dot” function to calculate inner products of vectors or to multiply \n",
        "matrices or multiply a vector by a matrix."
      ],
      "metadata": {
        "id": "2qD1S-Hh_cq-"
      }
    },
    {
      "cell_type": "code",
      "source": [
        "a=np.array([9,10])\n",
        "b=np.array([11, 12])\n",
        "print(a.dot(b))\n",
        "#or\n",
        "print(np.dot(a,b))"
      ],
      "metadata": {
        "colab": {
          "base_uri": "https://localhost:8080/"
        },
        "id": "kQDZdj73_esc",
        "outputId": "94595173-2e0d-4039-c702-9993e2c078c6"
      },
      "execution_count": 13,
      "outputs": [
        {
          "output_type": "stream",
          "name": "stdout",
          "text": [
            "219\n",
            "219\n"
          ]
        }
      ]
    },
    {
      "cell_type": "code",
      "source": [
        "# Matrix / vector product; both produce the rank 1 array [29 67]\n",
        "#print(x.cross(a))\n",
        "#or\n",
        "print(np.cross(x,a))"
      ],
      "metadata": {
        "colab": {
          "base_uri": "https://localhost:8080/"
        },
        "id": "DuekVmo8AiRE",
        "outputId": "23ca0340-7256-4d6a-e06b-e4a2a11b62df"
      },
      "execution_count": 17,
      "outputs": [
        {
          "output_type": "stream",
          "name": "stdout",
          "text": [
            "[[-70  63 -15]\n",
            " [-10   9  29]]\n"
          ]
        }
      ]
    },
    {
      "cell_type": "markdown",
      "source": [
        "NumPy provides many useful functions for performing computations on arrays. One \n",
        "of the most useful is sum."
      ],
      "metadata": {
        "id": "Uqbbbkz-CR2Q"
      }
    },
    {
      "cell_type": "code",
      "source": [
        "x=np.array([[1,2],[3,4]])\n",
        "# Compute sum of all elements\n",
        "print(np.sum(x))\n",
        "# Compute sum of each column\n",
        "print(np.sum(x, axis=0))\n",
        "# Compute sum of each row\n",
        "print(np.sum(x,axis=1))"
      ],
      "metadata": {
        "colab": {
          "base_uri": "https://localhost:8080/"
        },
        "id": "q2kkYRfCCTqz",
        "outputId": "5f2d709e-9751-49d4-d187-8f2b9947578e"
      },
      "execution_count": 22,
      "outputs": [
        {
          "output_type": "stream",
          "name": "stdout",
          "text": [
            "10\n",
            "[4 6]\n",
            "[3 7]\n"
          ]
        }
      ]
    },
    {
      "cell_type": "markdown",
      "source": [
        "Transpose is one of the common operations often performed on matrix, which can \n",
        "be achieved using the T attribute of an array object. "
      ],
      "metadata": {
        "id": "RUhX8VB3DNNs"
      }
    },
    {
      "cell_type": "code",
      "source": [
        "x=np.array([[2,4],[6,8]])\n",
        "y=np.array([1,2,3,4])\n",
        "#normal\n",
        "print(x)\n",
        "print(y)\n",
        "#transpose \n",
        "print(x.T)\n",
        "print(y.T)"
      ],
      "metadata": {
        "colab": {
          "base_uri": "https://localhost:8080/"
        },
        "id": "6EAsjx4ZDPI1",
        "outputId": "45cc6316-c702-45ce-a16e-ab661ef2be57"
      },
      "execution_count": 26,
      "outputs": [
        {
          "output_type": "stream",
          "name": "stdout",
          "text": [
            "[[2 4]\n",
            " [6 8]]\n",
            "[1 2 3 4]\n",
            "[[2 6]\n",
            " [4 8]]\n",
            "[1 2 3 4]\n"
          ]
        }
      ]
    }
  ]
}