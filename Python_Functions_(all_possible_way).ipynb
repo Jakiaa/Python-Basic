{
  "nbformat": 4,
  "nbformat_minor": 0,
  "metadata": {
    "colab": {
      "provenance": [],
      "authorship_tag": "ABX9TyMFt8q0WxUtf0+dkm5EJiUC",
      "include_colab_link": true
    },
    "kernelspec": {
      "name": "python3",
      "display_name": "Python 3"
    },
    "language_info": {
      "name": "python"
    }
  },
  "cells": [
    {
      "cell_type": "markdown",
      "metadata": {
        "id": "view-in-github",
        "colab_type": "text"
      },
      "source": [
        "<a href=\"https://colab.research.google.com/github/Jakiaa/Python-Basic/blob/main/Python_Functions_(all_possible_way).ipynb\" target=\"_parent\"><img src=\"https://colab.research.google.com/assets/colab-badge.svg\" alt=\"Open In Colab\"/></a>"
      ]
    },
    {
      "cell_type": "code",
      "execution_count": null,
      "metadata": {
        "colab": {
          "base_uri": "https://localhost:8080/"
        },
        "id": "eo3jwAbD9uO7",
        "outputId": "b5d9a883-f0e4-40a4-8fd2-8dda6f68b53c"
      },
      "outputs": [
        {
          "output_type": "stream",
          "name": "stdout",
          "text": [
            "Hello World!!\n"
          ]
        }
      ],
      "source": [
        "# 1-Normal text print without any parameters\n",
        "def hello():             #function name\n",
        "  print(\"Hello World!!\") #function definition\n",
        "hello()                  #function call"
      ]
    },
    {
      "cell_type": "code",
      "source": [
        "# 2-Python function that accepts two numbers as arguments and returns the sum\n",
        "def add(a,b):\n",
        "  sum=a+b\n",
        "  return sum\n",
        "print(add(5,10))"
      ],
      "metadata": {
        "colab": {
          "base_uri": "https://localhost:8080/"
        },
        "id": "Drc1LEfl-lke",
        "outputId": "3247517d-c09e-4d4f-fda3-45845c557d1e"
      },
      "execution_count": null,
      "outputs": [
        {
          "output_type": "stream",
          "name": "stdout",
          "text": [
            "15\n"
          ]
        }
      ]
    },
    {
      "cell_type": "code",
      "source": [
        "# 3-Python function that accepts different values as parameters and returns a list\n",
        "def color(a,b,c,d):\n",
        "  return [a,b,c,d]\n",
        "result= color('red','orange','yello','purple')\n",
        "print(result)"
      ],
      "metadata": {
        "colab": {
          "base_uri": "https://localhost:8080/"
        },
        "id": "tLFcqqYTB3HY",
        "outputId": "d1e379bd-b2c5-4e89-f08e-d08e91940a1d"
      },
      "execution_count": null,
      "outputs": [
        {
          "output_type": "stream",
          "name": "stdout",
          "text": [
            "['red', 'orange', 'yello', 'purple']\n"
          ]
        }
      ]
    },
    {
      "cell_type": "code",
      "source": [
        "\n",
        "# 4-Python function that accepts different values as parameters and returns a dictionary\n",
        "def color(a,b,c,d):\n",
        "  dic={a,b,c,d}\n",
        "  return dic\n",
        "\n",
        "print(color('red','orange','yello','purple'))"
      ],
      "metadata": {
        "colab": {
          "base_uri": "https://localhost:8080/"
        },
        "id": "bxOTCE2eFFWn",
        "outputId": "94152492-4a1e-46c7-d151-53351b3b1b31"
      },
      "execution_count": null,
      "outputs": [
        {
          "output_type": "stream",
          "name": "stdout",
          "text": [
            "{'purple', 'yello', 'orange', 'red'}\n"
          ]
        }
      ]
    },
    {
      "cell_type": "code",
      "source": [
        "# 5-Python function that accepts different values as parameters and returns a touple\n",
        "def color(a,b,c,d):\n",
        "  return (a,b,c,d)\n",
        "print(color('red','orange','yello','purple'))"
      ],
      "metadata": {
        "colab": {
          "base_uri": "https://localhost:8080/"
        },
        "id": "L5buEKf-GCoi",
        "outputId": "1b21bef1-c223-43e4-b4a4-4becdfa23414"
      },
      "execution_count": null,
      "outputs": [
        {
          "output_type": "stream",
          "name": "stdout",
          "text": [
            "('red', 'orange', 'yello', 'purple')\n"
          ]
        }
      ]
    },
    {
      "cell_type": "code",
      "source": [
        "# 6-Python function that accepts a list as a parameter\n",
        "def color(plist):\n",
        "  for i in plist:\n",
        "    print(i)\n",
        "color(['red','orange','yello','purple'])"
      ],
      "metadata": {
        "colab": {
          "base_uri": "https://localhost:8080/"
        },
        "id": "AXq_F7qyGxMk",
        "outputId": "b5bb0668-b9bf-461a-fa2b-2f710d483d25"
      },
      "execution_count": null,
      "outputs": [
        {
          "output_type": "stream",
          "name": "stdout",
          "text": [
            "red\n",
            "orange\n",
            "yello\n",
            "purple\n"
          ]
        }
      ]
    },
    {
      "cell_type": "code",
      "source": [
        "# 7-Python function that accepts a dictionary as a parameter\n",
        "def color(pdic):\n",
        "    print(pdic)\n",
        "dic={ 'F1':'red', 'F2' : 'orange', 'F3':'yello', \n",
        "     'Favorite' : 'purple'}\n",
        "color(dic)"
      ],
      "metadata": {
        "colab": {
          "base_uri": "https://localhost:8080/"
        },
        "id": "2Z58f7KhHiN1",
        "outputId": "053fd210-6f96-4ca6-9179-c2d52505e539"
      },
      "execution_count": null,
      "outputs": [
        {
          "output_type": "stream",
          "name": "stdout",
          "text": [
            "{'F1': 'red', 'F2': 'orange', 'F3': 'yello', 'Favorite': 'purple'}\n"
          ]
        }
      ]
    },
    {
      "cell_type": "code",
      "source": [
        " # 8-Passing an arbitrary number of arguments to a Python function\n",
        "def color(*colorlist):\n",
        "  print(colorlist)\n",
        "color('red','yello')\n",
        "color('green','purple')"
      ],
      "metadata": {
        "colab": {
          "base_uri": "https://localhost:8080/"
        },
        "id": "2Xb-d1nLSWaA",
        "outputId": "97f346a8-9bde-4e17-f79d-37a1460c7844"
      },
      "execution_count": null,
      "outputs": [
        {
          "output_type": "stream",
          "name": "stdout",
          "text": [
            "('red', 'yello')\n",
            "('green', 'purple')\n"
          ]
        }
      ]
    },
    {
      "cell_type": "code",
      "source": [
        "# 9-Nested functions\n",
        "def call1():\n",
        "  p=\"hello\"\n",
        "  def call2():\n",
        "    print(p+\" world\")\n",
        "  call2()\n",
        "call1()"
      ],
      "metadata": {
        "colab": {
          "base_uri": "https://localhost:8080/"
        },
        "id": "zXp6bSAdUJLx",
        "outputId": "8bfa111f-7cc7-462c-fe4e-f45dc66904df"
      },
      "execution_count": null,
      "outputs": [
        {
          "output_type": "stream",
          "name": "stdout",
          "text": [
            "hello world\n"
          ]
        }
      ]
    },
    {
      "cell_type": "code",
      "source": [
        "# 10-Python function to find the factorial of a number\n",
        "def fact(n):\n",
        "  while(n!=0):\n",
        "    if(n==0 or n==1):\n",
        "      return 1\n",
        "    else:\n",
        "      return n*fact(n-1)\n",
        "a=int(input())\n",
        "print(fact(a))\n",
        "\n"
      ],
      "metadata": {
        "colab": {
          "base_uri": "https://localhost:8080/"
        },
        "id": "Xdyhk8bMU9_i",
        "outputId": "035da78f-1101-4729-d50b-1de9c431ee25"
      },
      "execution_count": null,
      "outputs": [
        {
          "output_type": "stream",
          "name": "stdout",
          "text": [
            "4\n",
            "24\n"
          ]
        }
      ]
    },
    {
      "cell_type": "code",
      "source": [
        "# 11-Python function that returns multiple values\n",
        "def SwapTwoNumbers(a,b):\n",
        "    print(\"Before Swap: \",a,b)\n",
        "    a = a+b\n",
        "    b = a-b\n",
        "    a = a-b\n",
        "    return a,b\n",
        "    \n",
        "a,b = SwapTwoNumbers(17,24)\n",
        "print(\"After Swap: \",a,b)"
      ],
      "metadata": {
        "colab": {
          "base_uri": "https://localhost:8080/"
        },
        "id": "ZLC1nrdqV5B_",
        "outputId": "b70a1bd4-6aa3-485a-dff9-b9104414dcb7"
      },
      "execution_count": null,
      "outputs": [
        {
          "output_type": "stream",
          "name": "stdout",
          "text": [
            "Before Swap:  17 24\n",
            "After Swap:  24 17\n"
          ]
        }
      ]
    },
    {
      "cell_type": "code",
      "source": [
        "# 12- Python function to check if a number is palindrome or not\n",
        "def palindrome(n):\n",
        "  temp=n\n",
        "  rev=0\n",
        "  while(n!=0):\n",
        "    r=n%10\n",
        "    rev=rev*10+r\n",
        "    n=n//10\n",
        "\n",
        "  if(temp==rev):\n",
        "    print(temp, 'is palindrome')\n",
        "  else:\n",
        "    print(temp, 'is not palindrome')\n",
        "\n",
        "a=int(input())\n",
        "palindrome(a)\n"
      ],
      "metadata": {
        "colab": {
          "base_uri": "https://localhost:8080/"
        },
        "id": "Koh6OwaZV_yH",
        "outputId": "1c15098c-16ff-44b8-d23c-707187f336ea"
      },
      "execution_count": null,
      "outputs": [
        {
          "output_type": "stream",
          "name": "stdout",
          "text": [
            "121\n",
            "121 is palindrome\n"
          ]
        }
      ]
    }
  ]
}