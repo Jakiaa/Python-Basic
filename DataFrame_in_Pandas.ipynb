{
  "nbformat": 4,
  "nbformat_minor": 0,
  "metadata": {
    "colab": {
      "provenance": [],
      "authorship_tag": "ABX9TyPoD+2ielb9m+o5bZ9iShEn",
      "include_colab_link": true
    },
    "kernelspec": {
      "name": "python3",
      "display_name": "Python 3"
    },
    "language_info": {
      "name": "python"
    }
  },
  "cells": [
    {
      "cell_type": "markdown",
      "metadata": {
        "id": "view-in-github",
        "colab_type": "text"
      },
      "source": [
        "<a href=\"https://colab.research.google.com/github/Jakiaa/Python-Basic/blob/main/DataFrame_in_Pandas.ipynb\" target=\"_parent\"><img src=\"https://colab.research.google.com/assets/colab-badge.svg\" alt=\"Open In Colab\"/></a>"
      ]
    },
    {
      "cell_type": "markdown",
      "source": [
        "# DataFrame\n",
        "It is a two-dimensional object similar to a spreadsheet or an SQL table. This is the most \n",
        "commonly used pandas object."
      ],
      "metadata": {
        "id": "dbD523ISP9Gc"
      }
    },
    {
      "cell_type": "code",
      "source": [
        "import pandas as pd\n",
        "data={'Gender':['F','M','M'], 'Emp_id':[1,2,3], 'Age':[25,24,34]}\n",
        "df=pd.DataFrame( data,columns=['Emp_id', 'Gender','Age'])\n",
        "print(df)"
      ],
      "metadata": {
        "colab": {
          "base_uri": "https://localhost:8080/"
        },
        "id": "eeLZDTRcQJZR",
        "outputId": "bb83b3c5-d21e-40a9-fde4-f9261710b544"
      },
      "execution_count": 3,
      "outputs": [
        {
          "output_type": "stream",
          "name": "stdout",
          "text": [
            "   Emp_id Gender  Age\n",
            "0       1      F   25\n",
            "1       2      M   24\n",
            "2       3      M   34\n"
          ]
        }
      ]
    }
  ]
}