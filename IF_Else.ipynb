{
  "nbformat": 4,
  "nbformat_minor": 0,
  "metadata": {
    "colab": {
      "provenance": [],
      "authorship_tag": "ABX9TyOk5zq6YFA12KRXcmbGbjRY",
      "include_colab_link": true
    },
    "kernelspec": {
      "name": "python3",
      "display_name": "Python 3"
    },
    "language_info": {
      "name": "python"
    }
  },
  "cells": [
    {
      "cell_type": "markdown",
      "metadata": {
        "id": "view-in-github",
        "colab_type": "text"
      },
      "source": [
        "<a href=\"https://colab.research.google.com/github/Jakiaa/Python-Basic/blob/main/IF_Else.ipynb\" target=\"_parent\"><img src=\"https://colab.research.google.com/assets/colab-badge.svg\" alt=\"Open In Colab\"/></a>"
      ]
    },
    {
      "cell_type": "code",
      "execution_count": null,
      "metadata": {
        "colab": {
          "base_uri": "https://localhost:8080/"
        },
        "id": "5DzVRgxWRXc7",
        "outputId": "9ced0d66-fa48-4d49-fc5d-a64611736f66"
      },
      "outputs": [
        {
          "output_type": "stream",
          "name": "stdout",
          "text": [
            "Get marks from user: 55\n",
            "D\n"
          ]
        }
      ],
      "source": [
        "# Grade point\n",
        "mark=int(input(\"Get marks from user: \"))\n",
        "if mark>90:\n",
        "  print(\"A\")\n",
        "if mark>80 and mark<=90:\n",
        "  print(\"B\")\n",
        "if mark>60 and mark<=80:\n",
        "  print(\"C\")\n",
        "if mark<60:\n",
        "  print(\"D\")"
      ]
    },
    {
      "cell_type": "code",
      "source": [
        "#Cost price of a product with TAX\n",
        "price=int(input(\"Get marks from user: \"))\n",
        "txt=0\n",
        "if price>100000:\n",
        "  TotalPrice=price+price*0.15\n",
        "  txt=0.15*price\n",
        "if price>50000 and price<=100000:\n",
        "   TotalPrice=price+price*0.10\n",
        "   txt=0.10*price\n",
        "if price<=5000:\n",
        "   TotalPrice=price+price*0.05\n",
        "   txt=0.05*price\n",
        "print(TotalPrice)\n",
        "print(\"Taxt to be paid: \",txt)\n"
      ],
      "metadata": {
        "colab": {
          "base_uri": "https://localhost:8080/"
        },
        "id": "R4hqXGseXDV4",
        "outputId": "1da4e52f-9e5e-4c63-c8ac-28f90d40c9d6"
      },
      "execution_count": null,
      "outputs": [
        {
          "output_type": "stream",
          "name": "stdout",
          "text": [
            "Get marks from user: 90000\n",
            "99000.0\n",
            "9000.0\n"
          ]
        }
      ]
    },
    {
      "cell_type": "code",
      "source": [
        "#Leap year check\n",
        "year=int(input(\"Get marks from user: \"))\n",
        "if year%100==0:\n",
        "  if year%400==0:\n",
        "    print(\"Given year is leap year\")\n",
        "  else:\n",
        "    print(\"Given year is not leap year\")\n",
        "else:\n",
        "  if year%4==0:\n",
        "    print(\"Given year is leap year\")\n",
        "  else:\n",
        "    print(\"Given year is not leap year\")"
      ],
      "metadata": {
        "colab": {
          "base_uri": "https://localhost:8080/"
        },
        "id": "1ltvQObrdrqD",
        "outputId": "b0445081-7a11-41f9-d73d-a7ceb9b26163"
      },
      "execution_count": null,
      "outputs": [
        {
          "output_type": "stream",
          "name": "stdout",
          "text": [
            "Get marks from user: 2023\n",
            "Given year is not leap year\n"
          ]
        }
      ]
    },
    {
      "cell_type": "code",
      "source": [
        "#true false\n",
        "if True:\n",
        "  print(101)\n",
        "else:\n",
        "  print(102)"
      ],
      "metadata": {
        "id": "57qLTqjcaeSQ",
        "colab": {
          "base_uri": "https://localhost:8080/"
        },
        "outputId": "bb3375a8-97e0-4699-8519-42d1c7d418e7"
      },
      "execution_count": null,
      "outputs": [
        {
          "output_type": "stream",
          "name": "stdout",
          "text": [
            "101\n"
          ]
        }
      ]
    },
    {
      "cell_type": "code",
      "source": [
        "#Check prime or not\n",
        "number=int(input(\"Enter the number:\"))\n",
        "k=0\n",
        "if(number==0 or number==1 ):\n",
        "  k=1\n",
        "for i in range(2, number ):\n",
        "  if number%i==0:\n",
        "    k=1\n",
        "if k==1:\n",
        "  print(\"Given number is not prime\")\n",
        "else:\n",
        "  print(\"Given number is prime\")"
      ],
      "metadata": {
        "id": "Qc7HDGeShhhB",
        "colab": {
          "base_uri": "https://localhost:8080/"
        },
        "outputId": "41399c17-6b2d-481e-d5b6-7d2ba91f3d54"
      },
      "execution_count": null,
      "outputs": [
        {
          "output_type": "stream",
          "name": "stdout",
          "text": [
            "Enter the number:7\n",
            "Given number is prime\n"
          ]
        }
      ]
    },
    {
      "cell_type": "code",
      "source": [
        "# Vowel check\n",
        "ch=input(\"Enter charecter: \")\n",
        "vwl=\"aeiouAEIOU\"\n",
        "if ch in vwl:\n",
        "  print(ch, \"is vowel\")\n",
        "else:\n",
        "  print(ch, \"is Consonant\")"
      ],
      "metadata": {
        "colab": {
          "base_uri": "https://localhost:8080/"
        },
        "id": "SpxkX7qelwBK",
        "outputId": "53f04346-e2dc-40df-bf92-a366f98c6ad7"
      },
      "execution_count": null,
      "outputs": [
        {
          "output_type": "stream",
          "name": "stdout",
          "text": [
            "Enter charecter: a\n",
            "a is vowel\n"
          ]
        }
      ]
    },
    {
      "cell_type": "code",
      "source": [
        "# Possible to make triangle or not\n",
        "s1=int(input(\"Enter s1:\"))\n",
        "s2=int(input(\"Enter s2:\"))\n",
        "s3=int(input(\"Enter s3:\"))\n",
        "if (s1+s2>s3 or s1+s3>s2 or s3+s2>s1 ):\n",
        "  print(\"Possible to make Triangle\")\n",
        "else:\n",
        "  print(\"Not p7ossible to make Triangle\")"
      ],
      "metadata": {
        "colab": {
          "base_uri": "https://localhost:8080/"
        },
        "id": "9Ijcr5PAq94N",
        "outputId": "247cd864-b661-4645-c0e5-b4bbc7106f3d"
      },
      "execution_count": null,
      "outputs": [
        {
          "output_type": "stream",
          "name": "stdout",
          "text": [
            "Enter s1:2\n",
            "Enter s1:7\n",
            "Enter s1:3\n",
            "Possible to make Triangle\n"
          ]
        }
      ]
    },
    {
      "cell_type": "code",
      "source": [
        "#Alloted Subjects\n",
        "english=int(input(\"Enter mark of English:\"))\n",
        "math=int(input(\"Enter mark of Math:\"))\n",
        "science=int(input(\"Enter mark of Science:\"))\n",
        "social_studies=int(input(\"Enter mark of Social Science:\"))\n",
        "if english>80 and math>80 and science>80 and social_studies>80:\n",
        "  print(\"Science Stream\")\n",
        "elif english>80 and (math>50 or social_studies>50):\n",
        "  print('CS')\n",
        "elif english>80 and social_studies>80:\n",
        "  print('Humanities')"
      ],
      "metadata": {
        "colab": {
          "base_uri": "https://localhost:8080/"
        },
        "id": "Kk5Rx-b33X95",
        "outputId": "b6a93334-4525-4f9f-fe53-ed8369e3beec"
      },
      "execution_count": null,
      "outputs": [
        {
          "output_type": "stream",
          "name": "stdout",
          "text": [
            "Enter mark of English:87\n",
            "Enter mark of Math:80\n",
            "Enter mark of Science:89\n",
            "Enter mark of Social Science:87\n",
            "CS\n"
          ]
        }
      ]
    }
  ]
}